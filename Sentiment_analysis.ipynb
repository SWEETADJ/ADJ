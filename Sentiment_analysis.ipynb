{
  "nbformat": 4,
  "nbformat_minor": 5,
  "metadata": {
    "kernelspec": {
      "display_name": "Python 3",
      "language": "python",
      "name": "python3"
    },
    "language_info": {
      "codemirror_mode": {
        "name": "ipython",
        "version": 3
      },
      "file_extension": ".py",
      "mimetype": "text/x-python",
      "name": "python",
      "nbconvert_exporter": "python",
      "pygments_lexer": "ipython3",
      "version": "3.8.5"
    },
    "colab": {
      "name": "Sentiment analysis.ipynb",
      "provenance": [],
      "include_colab_link": true
    }
  },
  "cells": [
    {
      "cell_type": "markdown",
      "metadata": {
        "id": "view-in-github",
        "colab_type": "text"
      },
      "source": [
        "<a href=\"https://colab.research.google.com/github/SWEETADJ/ADJ/blob/main/Sentiment_analysis.ipynb\" target=\"_parent\"><img src=\"https://colab.research.google.com/assets/colab-badge.svg\" alt=\"Open In Colab\"/></a>"
      ]
    },
    {
      "cell_type": "code",
      "metadata": {
        "id": "9kxrvE7GHHHv"
      },
      "source": [
        ""
      ],
      "id": "9kxrvE7GHHHv",
      "execution_count": null,
      "outputs": []
    },
    {
      "cell_type": "markdown",
      "metadata": {
        "id": "QQbxVQ3KHHH4"
      },
      "source": [
        "Sentiment Analysis\n",
        "\n",
        "First, let's import all the python libraries that we will use throughout the program.\n",
        "Basic Python Libraries\n",
        "Pandas - library for data analysis and data manipulation\n",
        "Seaborn - used for data visualization\n",
        "re - provides functions to pre process the strings as per the given regular expression"
      ],
      "id": "QQbxVQ3KHHH4"
    },
    {
      "cell_type": "code",
      "metadata": {
        "id": "upfzR7gLHHIC",
        "outputId": "7cd11736-e8ad-4fa2-fd7e-a21476df38ba"
      },
      "source": [
        "import pandas as pd\n",
        "import seaborn as sns\n",
        "import matplotlib.pyplot as plt\n",
        "from wordcloud import WordCloud\n",
        "import re\n",
        "import nltk\n",
        "nltk.download('wordnet')"
      ],
      "id": "upfzR7gLHHIC",
      "execution_count": null,
      "outputs": [
        {
          "output_type": "stream",
          "text": [
            "[nltk_data] Downloading package wordnet to\n",
            "[nltk_data]     C:\\Users\\USER\\AppData\\Roaming\\nltk_data...\n",
            "[nltk_data]   Unzipping corpora\\wordnet.zip.\n"
          ],
          "name": "stderr"
        },
        {
          "output_type": "execute_result",
          "data": {
            "text/plain": [
              "True"
            ]
          },
          "metadata": {
            "tags": []
          },
          "execution_count": 26
        }
      ]
    },
    {
      "cell_type": "markdown",
      "metadata": {
        "id": "r6Wyw1lfHHIJ"
      },
      "source": [
        "Now we will import style and rcParams from matplotlib to modify the style of graphs. And, we will import warnings library, to ignore the unnecessary warnings which are displayed."
      ],
      "id": "r6Wyw1lfHHIJ"
    },
    {
      "cell_type": "code",
      "metadata": {
        "id": "tKgTFt_THHI4"
      },
      "source": [
        "from matplotlib import style,rcParams\n",
        "style.use('seaborn-white')\n",
        "rcParams['figure.figsize'] = 10,5\n",
        "import warnings\n",
        "warnings.filterwarnings('ignore')"
      ],
      "id": "tKgTFt_THHI4",
      "execution_count": null,
      "outputs": []
    },
    {
      "cell_type": "markdown",
      "metadata": {
        "id": "_JRmOi5wHHI6"
      },
      "source": [
        "Natural Language Processing\n",
        "\n",
        "nltk - Natural Language Toolkit is a collection of libraries for natural language processing\n",
        "stopwords - collection of words that don't provide any meaning to a sentence\n",
        "WordNetLemmatizer - used to convert different forms of words into a single item but still keeping the context intact"
      ],
      "id": "_JRmOi5wHHI6"
    },
    {
      "cell_type": "code",
      "metadata": {
        "id": "5F7TS7tcHHI8"
      },
      "source": [
        "import nltk\n",
        "from nltk.corpus import stopwords\n",
        "from nltk.stem import WordNetLemmatizer"
      ],
      "id": "5F7TS7tcHHI8",
      "execution_count": null,
      "outputs": []
    },
    {
      "cell_type": "markdown",
      "metadata": {
        "id": "dF4fcCxfHHJB"
      },
      "source": [
        "Scikit-Learn (Machine Learning Library for Python)\n",
        "\n",
        "a. CountVectorizer - transform text to vectors\n",
        "b. train_test_split - splits data into train and test data\n",
        "c. GridSearchCV - for hyperparameter tuning\n",
        "d. RandomForestClassifier - machine learning algorithm for classification"
      ],
      "id": "dF4fcCxfHHJB"
    },
    {
      "cell_type": "code",
      "metadata": {
        "id": "c8PZeCYaHHJF"
      },
      "source": [
        "from sklearn.feature_extraction.text import CountVectorizer\n",
        "from sklearn.model_selection import GridSearchCV\n",
        "from sklearn.ensemble import RandomForestClassifier"
      ],
      "id": "c8PZeCYaHHJF",
      "execution_count": null,
      "outputs": []
    },
    {
      "cell_type": "markdown",
      "metadata": {
        "id": "VICRgkQOHHJH"
      },
      "source": [
        "Evaluation Metrics\n",
        "\n",
        "a. Accuracy Score - no. of correctly classified instances/total no. of istances\n",
        "b. Precision Score\n",
        "c. Recall Score\n",
        "d. Roc Curve\n",
        "e. Classification Report\n",
        "f.Confusion Matrix"
      ],
      "id": "VICRgkQOHHJH"
    },
    {
      "cell_type": "code",
      "metadata": {
        "id": "S4NUVUv0HHJK",
        "outputId": "b34cef66-d985-498b-d3e1-55b5a872074d"
      },
      "source": [
        "!pip install scikit-plot"
      ],
      "id": "S4NUVUv0HHJK",
      "execution_count": null,
      "outputs": [
        {
          "output_type": "stream",
          "text": [
            "Requirement already satisfied: scikit-plot in c:\\users\\user\\anaconda3\\lib\\site-packages (0.3.7)\n",
            "Requirement already satisfied: joblib>=0.10 in c:\\users\\user\\anaconda3\\lib\\site-packages (from scikit-plot) (0.17.0)\n",
            "Requirement already satisfied: scipy>=0.9 in c:\\users\\user\\anaconda3\\lib\\site-packages (from scikit-plot) (1.5.2)\n",
            "Requirement already satisfied: matplotlib>=1.4.0 in c:\\users\\user\\anaconda3\\lib\\site-packages (from scikit-plot) (3.3.2)\n",
            "Requirement already satisfied: scikit-learn>=0.18 in c:\\users\\user\\anaconda3\\lib\\site-packages (from scikit-plot) (0.23.2)\n",
            "Requirement already satisfied: numpy>=1.14.5 in c:\\users\\user\\anaconda3\\lib\\site-packages (from scipy>=0.9->scikit-plot) (1.19.2)\n",
            "Requirement already satisfied: python-dateutil>=2.1 in c:\\users\\user\\anaconda3\\lib\\site-packages (from matplotlib>=1.4.0->scikit-plot) (2.8.1)\n",
            "Requirement already satisfied: pillow>=6.2.0 in c:\\users\\user\\anaconda3\\lib\\site-packages (from matplotlib>=1.4.0->scikit-plot) (8.0.1)\n",
            "Requirement already satisfied: cycler>=0.10 in c:\\users\\user\\anaconda3\\lib\\site-packages (from matplotlib>=1.4.0->scikit-plot) (0.10.0)\n",
            "Requirement already satisfied: kiwisolver>=1.0.1 in c:\\users\\user\\anaconda3\\lib\\site-packages (from matplotlib>=1.4.0->scikit-plot) (1.3.0)\n",
            "Requirement already satisfied: certifi>=2020.06.20 in c:\\users\\user\\anaconda3\\lib\\site-packages (from matplotlib>=1.4.0->scikit-plot) (2020.6.20)\n",
            "Requirement already satisfied: pyparsing!=2.0.4,!=2.1.2,!=2.1.6,>=2.0.3 in c:\\users\\user\\anaconda3\\lib\\site-packages (from matplotlib>=1.4.0->scikit-plot) (2.4.7)\n",
            "Requirement already satisfied: threadpoolctl>=2.0.0 in c:\\users\\user\\anaconda3\\lib\\site-packages (from scikit-learn>=0.18->scikit-plot) (2.1.0)\n",
            "Requirement already satisfied: six>=1.5 in c:\\users\\user\\anaconda3\\lib\\site-packages (from python-dateutil>=2.1->matplotlib>=1.4.0->scikit-plot) (1.15.0)\n"
          ],
          "name": "stdout"
        }
      ]
    },
    {
      "cell_type": "code",
      "metadata": {
        "id": "kbeVzS_cHHJN"
      },
      "source": [
        "from sklearn.metrics import accuracy_score,precision_score,recall_score,confusion_matrix,roc_curve,classification_report\n",
        "from scikitplot.metrics import plot_confusion_matrix"
      ],
      "id": "kbeVzS_cHHJN",
      "execution_count": null,
      "outputs": []
    },
    {
      "cell_type": "markdown",
      "metadata": {
        "id": "GegsaH_RHHJQ"
      },
      "source": [
        "Now, we will read the training data and validation data. As the data is in text format, seperated by semi colons and without column names, we will create the data frame with read_csv() and parameters as \"delimeter\" and \"names\""
      ],
      "id": "GegsaH_RHHJQ"
    },
    {
      "cell_type": "code",
      "metadata": {
        "id": "oxnG321OHHJS"
      },
      "source": [
        "df_train = pd.read_csv(\"train.txt\",delimiter=';',names=['text','label'])\n",
        "df_val = pd.read_csv(\"val.txt\",delimiter=';',names=['text','label'])"
      ],
      "id": "oxnG321OHHJS",
      "execution_count": null,
      "outputs": []
    },
    {
      "cell_type": "markdown",
      "metadata": {
        "id": "ZzP5rkxAHHJU"
      },
      "source": [
        "Now, we will concatenate these two data frames as we will be using cross validation and we have a seperate test dataset"
      ],
      "id": "ZzP5rkxAHHJU"
    },
    {
      "cell_type": "code",
      "metadata": {
        "id": "867eRhyvHHJV"
      },
      "source": [
        "df = pd.concat([df_train,df_val])"
      ],
      "id": "867eRhyvHHJV",
      "execution_count": null,
      "outputs": []
    },
    {
      "cell_type": "code",
      "metadata": {
        "id": "6wa6YK41HHJX",
        "outputId": "0e293ed6-c542-4d9c-b1d7-49d57b6cbd2b"
      },
      "source": [
        "print(\"Shape of the DataFrame:\",df.shape)"
      ],
      "id": "6wa6YK41HHJX",
      "execution_count": null,
      "outputs": [
        {
          "output_type": "stream",
          "text": [
            "Shape of the DataFrame: (18000, 2)\n"
          ],
          "name": "stdout"
        }
      ]
    },
    {
      "cell_type": "code",
      "metadata": {
        "id": "2AO_HtXHHHJZ"
      },
      "source": [
        "df.reset_index(inplace=True,drop=True)"
      ],
      "id": "2AO_HtXHHHJZ",
      "execution_count": null,
      "outputs": []
    },
    {
      "cell_type": "code",
      "metadata": {
        "id": "f6N-MBBdHHJa",
        "outputId": "6405ba1e-39b3-48b0-e331-a20ea1e7d2d0"
      },
      "source": [
        "df.head()"
      ],
      "id": "f6N-MBBdHHJa",
      "execution_count": null,
      "outputs": [
        {
          "output_type": "execute_result",
          "data": {
            "text/html": [
              "<div>\n",
              "<style scoped>\n",
              "    .dataframe tbody tr th:only-of-type {\n",
              "        vertical-align: middle;\n",
              "    }\n",
              "\n",
              "    .dataframe tbody tr th {\n",
              "        vertical-align: top;\n",
              "    }\n",
              "\n",
              "    .dataframe thead th {\n",
              "        text-align: right;\n",
              "    }\n",
              "</style>\n",
              "<table border=\"1\" class=\"dataframe\">\n",
              "  <thead>\n",
              "    <tr style=\"text-align: right;\">\n",
              "      <th></th>\n",
              "      <th>text</th>\n",
              "      <th>label</th>\n",
              "    </tr>\n",
              "  </thead>\n",
              "  <tbody>\n",
              "    <tr>\n",
              "      <th>0</th>\n",
              "      <td>i didnt feel humiliated</td>\n",
              "      <td>sadness</td>\n",
              "    </tr>\n",
              "    <tr>\n",
              "      <th>1</th>\n",
              "      <td>i can go from feeling so hopeless to so damned...</td>\n",
              "      <td>sadness</td>\n",
              "    </tr>\n",
              "    <tr>\n",
              "      <th>2</th>\n",
              "      <td>im grabbing a minute to post i feel greedy wrong</td>\n",
              "      <td>anger</td>\n",
              "    </tr>\n",
              "    <tr>\n",
              "      <th>3</th>\n",
              "      <td>i am ever feeling nostalgic about the fireplac...</td>\n",
              "      <td>love</td>\n",
              "    </tr>\n",
              "    <tr>\n",
              "      <th>4</th>\n",
              "      <td>i am feeling grouchy</td>\n",
              "      <td>anger</td>\n",
              "    </tr>\n",
              "  </tbody>\n",
              "</table>\n",
              "</div>"
            ],
            "text/plain": [
              "                                                text    label\n",
              "0                            i didnt feel humiliated  sadness\n",
              "1  i can go from feeling so hopeless to so damned...  sadness\n",
              "2   im grabbing a minute to post i feel greedy wrong    anger\n",
              "3  i am ever feeling nostalgic about the fireplac...     love\n",
              "4                               i am feeling grouchy    anger"
            ]
          },
          "metadata": {
            "tags": []
          },
          "execution_count": 12
        }
      ]
    },
    {
      "cell_type": "code",
      "metadata": {
        "id": "09v-qul2HHJc",
        "outputId": "ce115c6f-9ac7-4e6f-fa2f-201bccb2a481"
      },
      "source": [
        "sns.countplot(df.label)"
      ],
      "id": "09v-qul2HHJc",
      "execution_count": null,
      "outputs": [
        {
          "output_type": "execute_result",
          "data": {
            "text/plain": [
              "<AxesSubplot:xlabel='label', ylabel='count'>"
            ]
          },
          "metadata": {
            "tags": []
          },
          "execution_count": 13
        },
        {
          "output_type": "display_data",
          "data": {
            "image/png": "[encoded data removed]",
            "text/plain": [
              "<Figure size 720x360 with 1 Axes>"
            ]
          },
          "metadata": {
            "tags": []
          }
        }
      ]
    },
    {
      "cell_type": "markdown",
      "metadata": {
        "id": "6e0x2xUMHHKL"
      },
      "source": [
        "As we can see that, we have 6 labels or targets in the dataset. We can make a multi-class classifier for Sentiment Analysis. But, for the sake of the simplicity, we will merge these labels into two classes, i.e. Positive or Negative sentiment.¶\n",
        "Positive Sentiment - \"joy\",\"love\",\"surprise\"\n",
        "Negative Sentiment - \"anger\",\"sadness\",\"fear\"\n",
        "\n",
        "Now, we will create a custom encoder to convert categorical target labels to numerical form, i.e. (0 and 1)"
      ],
      "id": "6e0x2xUMHHKL"
    },
    {
      "cell_type": "code",
      "metadata": {
        "id": "HMqJuVwNHHKM"
      },
      "source": [
        "def custom_encoder(df):\n",
        "    df.replace(to_replace =\"surprise\", value =1, inplace=True)\n",
        "    df.replace(to_replace =\"love\", value =1, inplace=True)\n",
        "    df.replace(to_replace =\"joy\", value =1, inplace=True)\n",
        "    df.replace(to_replace =\"fear\", value =0, inplace=True)\n",
        "    df.replace(to_replace =\"anger\", value =0, inplace=True)\n",
        "    df.replace(to_replace =\"sadness\", value =0, inplace=True)"
      ],
      "id": "HMqJuVwNHHKM",
      "execution_count": null,
      "outputs": []
    },
    {
      "cell_type": "code",
      "metadata": {
        "id": "GhuxQMzAHHKO"
      },
      "source": [
        "custom_encoder(df['label'])"
      ],
      "id": "GhuxQMzAHHKO",
      "execution_count": null,
      "outputs": []
    },
    {
      "cell_type": "code",
      "metadata": {
        "id": "Cdu3wrlGHHKR",
        "outputId": "7ef817b9-e118-4e85-f9c2-7606ed0ade4e"
      },
      "source": [
        "sns.countplot(df.label)"
      ],
      "id": "Cdu3wrlGHHKR",
      "execution_count": null,
      "outputs": [
        {
          "output_type": "execute_result",
          "data": {
            "text/plain": [
              "<AxesSubplot:xlabel='label', ylabel='count'>"
            ]
          },
          "metadata": {
            "tags": []
          },
          "execution_count": 16
        },
        {
          "output_type": "display_data",
          "data": {
            "image/png": "[encoded data removed]",
            "text/plain": [
              "<Figure size 720x360 with 1 Axes>"
            ]
          },
          "metadata": {
            "tags": []
          }
        }
      ]
    },
    {
      "cell_type": "markdown",
      "metadata": {
        "id": "vRm5-yGBHHKU"
      },
      "source": [
        "Now, we can see that our target have changed to 0 and 1, and the data is more or less in a balanced state"
      ],
      "id": "vRm5-yGBHHKU"
    },
    {
      "cell_type": "code",
      "metadata": {
        "id": "Pb8wCFm_HHKV",
        "outputId": "02bf39f9-151c-4e56-f677-b7be91891555"
      },
      "source": [
        "df.head()"
      ],
      "id": "Pb8wCFm_HHKV",
      "execution_count": null,
      "outputs": [
        {
          "output_type": "execute_result",
          "data": {
            "text/html": [
              "<div>\n",
              "<style scoped>\n",
              "    .dataframe tbody tr th:only-of-type {\n",
              "        vertical-align: middle;\n",
              "    }\n",
              "\n",
              "    .dataframe tbody tr th {\n",
              "        vertical-align: top;\n",
              "    }\n",
              "\n",
              "    .dataframe thead th {\n",
              "        text-align: right;\n",
              "    }\n",
              "</style>\n",
              "<table border=\"1\" class=\"dataframe\">\n",
              "  <thead>\n",
              "    <tr style=\"text-align: right;\">\n",
              "      <th></th>\n",
              "      <th>text</th>\n",
              "      <th>label</th>\n",
              "    </tr>\n",
              "  </thead>\n",
              "  <tbody>\n",
              "    <tr>\n",
              "      <th>0</th>\n",
              "      <td>i didnt feel humiliated</td>\n",
              "      <td>0</td>\n",
              "    </tr>\n",
              "    <tr>\n",
              "      <th>1</th>\n",
              "      <td>i can go from feeling so hopeless to so damned...</td>\n",
              "      <td>0</td>\n",
              "    </tr>\n",
              "    <tr>\n",
              "      <th>2</th>\n",
              "      <td>im grabbing a minute to post i feel greedy wrong</td>\n",
              "      <td>0</td>\n",
              "    </tr>\n",
              "    <tr>\n",
              "      <th>3</th>\n",
              "      <td>i am ever feeling nostalgic about the fireplac...</td>\n",
              "      <td>1</td>\n",
              "    </tr>\n",
              "    <tr>\n",
              "      <th>4</th>\n",
              "      <td>i am feeling grouchy</td>\n",
              "      <td>0</td>\n",
              "    </tr>\n",
              "  </tbody>\n",
              "</table>\n",
              "</div>"
            ],
            "text/plain": [
              "                                                text  label\n",
              "0                            i didnt feel humiliated      0\n",
              "1  i can go from feeling so hopeless to so damned...      0\n",
              "2   im grabbing a minute to post i feel greedy wrong      0\n",
              "3  i am ever feeling nostalgic about the fireplac...      1\n",
              "4                               i am feeling grouchy      0"
            ]
          },
          "metadata": {
            "tags": []
          },
          "execution_count": 17
        }
      ]
    },
    {
      "cell_type": "markdown",
      "metadata": {
        "id": "6iohpCKCHHKX"
      },
      "source": [
        "Now, we will perform some pre-processing on the data before converting it into vectors and passing it to the machine learning model"
      ],
      "id": "6iohpCKCHHKX"
    },
    {
      "cell_type": "code",
      "metadata": {
        "id": "8oysB6jwHHKY"
      },
      "source": [
        "#object of WordNetLemmatizer\n",
        "lm = WordNetLemmatizer()"
      ],
      "id": "8oysB6jwHHKY",
      "execution_count": null,
      "outputs": []
    },
    {
      "cell_type": "markdown",
      "metadata": {
        "id": "bLtoArEUHHKZ"
      },
      "source": [
        "We will create a function for pre-processing of data\n",
        "1. First, we will iterate through each record and using regualr expression, we will get rid of any characters apart from alphabets.\n",
        "2. Then, we will convert the string to lowercase as, the word \"Good\" is different from the word \"good\". This will cause an issue, when we will create vectors of these words, as two different vectors will be created for the same word which we don't want to.\n",
        "3. Then we will check for stopwords in the data and get rid of them. Stopwords are commonly used words in a sentence such as \"the\",\"an\",\"to\" etc. which do not add much value.\n",
        "4. Then, we will perform lemmatization on each word,i.e. change the different forms of word into a single item called as lemma. A lemma is a base form of a word. For example, run, running and runs are all forms of same lexeme where run is the lemma. Hence, we are converting all occurrences of same lexeme to it's respective lemma.\n",
        "5.And, then return a corpus of processed data"
      ],
      "id": "bLtoArEUHHKZ"
    },
    {
      "cell_type": "code",
      "metadata": {
        "id": "QALS_-xWHHKc"
      },
      "source": [
        "def text_transformation(df_col):\n",
        "    corpus = []\n",
        "    for item in df_col:\n",
        "        new_item = re.sub('[^a-zA-Z]',' ',str(item))\n",
        "        new_item = new_item.lower()\n",
        "        new_item = new_item.split()\n",
        "        new_item = [lm.lemmatize(word) for word in new_item if word not in set(stopwords.words('english'))]\n",
        "        corpus.append(' '.join(str(x) for x in new_item))\n",
        "    return corpus"
      ],
      "id": "QALS_-xWHHKc",
      "execution_count": null,
      "outputs": []
    },
    {
      "cell_type": "code",
      "metadata": {
        "id": "s5fEBUBdHHKd",
        "outputId": "fe327305-45c4-498d-d0e2-8ffa35259a40"
      },
      "source": [
        "!pip install stopwords"
      ],
      "id": "s5fEBUBdHHKd",
      "execution_count": null,
      "outputs": [
        {
          "output_type": "stream",
          "text": [
            "Requirement already satisfied: stopwords in c:\\users\\user\\anaconda3\\lib\\site-packages (1.0.0)\n"
          ],
          "name": "stdout"
        }
      ]
    },
    {
      "cell_type": "code",
      "metadata": {
        "id": "n80q1WBvHHKg"
      },
      "source": [
        "corpus = text_transformation(df['text'])"
      ],
      "id": "n80q1WBvHHKg",
      "execution_count": null,
      "outputs": []
    },
    {
      "cell_type": "markdown",
      "metadata": {
        "id": "xCp9qyuoHHKj"
      },
      "source": [
        "Now, we will create a Word Cloud. It is a data visualization technique used to depict text in such a way that, the more frequent words appear enlarged as compared to less frequent words"
      ],
      "id": "xCp9qyuoHHKj"
    },
    {
      "cell_type": "code",
      "metadata": {
        "id": "GyrvsJrHHHKl"
      },
      "source": [
        "rcParams['figure.figsize'] = 20,8\n",
        "word_cloud = \"\"\n",
        "for row in corpus:\n",
        "    for word in row:\n",
        "        word_cloud+=\" \".join(word)\n",
        "\n",
        "wordcloud = WordCloud(width = 1000, height = 500,background_color ='white',min_font_size = 10).generate(word_cloud)\n",
        "plt.imshow(wordcloud)"
      ],
      "id": "GyrvsJrHHHKl",
      "execution_count": null,
      "outputs": []
    },
    {
      "cell_type": "markdown",
      "metadata": {
        "id": "b5ys2LzMHHK3"
      },
      "source": [
        "Now, we will use Bag of Words Model(BOW), which is used to represent the text in the form of bag of words,i.e. the grammar and the order of words in a sentence is not given any importance, instead multiplicity,i.e. (the number of times a word occurs in a document) is the main point of concern.¶\n",
        "Basically, it describes the total occurrence of words within a document.\n",
        "sklearn provides a neat way of performing bag of words technique using CountVectorizer"
      ],
      "id": "b5ys2LzMHHK3"
    },
    {
      "cell_type": "code",
      "metadata": {
        "id": "Uzrwpo92HHLs"
      },
      "source": [
        "from sklearn.feature_extraction.text import CountVectorizer"
      ],
      "id": "Uzrwpo92HHLs",
      "execution_count": null,
      "outputs": []
    },
    {
      "cell_type": "markdown",
      "metadata": {
        "id": "NK3BVJsiHHLt"
      },
      "source": [
        "Now, we will convert the text data into vectors, by fitting and transforming the corpus.\n",
        "\n",
        "We will take ngram_range as (1,2) which signifies a bigram.\n",
        "\n",
        "Ngram is a sequence of 'n' of words in a row or sentence. 'ngram_range' is parameter which we use to give importance to combination of words as well, such as, \"social media\" has different meaning then separate words such as \"social\" and \"media\".\n",
        "\n",
        "We can use experiment with the value of this parameter and select the option which gives better results."
      ],
      "id": "NK3BVJsiHHLt"
    },
    {
      "cell_type": "code",
      "metadata": {
        "id": "4Q86J1UQHHLv"
      },
      "source": [
        "cv = CountVectorizer(ngram_range=(1,2))\n",
        "traindata = cv.fit_transform(corpus)"
      ],
      "id": "4Q86J1UQHHLv",
      "execution_count": null,
      "outputs": []
    },
    {
      "cell_type": "code",
      "metadata": {
        "id": "NAnwjnNFHHLw"
      },
      "source": [
        "X = traindata\n",
        "y = df.label"
      ],
      "id": "NAnwjnNFHHLw",
      "execution_count": null,
      "outputs": []
    },
    {
      "cell_type": "markdown",
      "metadata": {
        "id": "AKchemxqHHLx"
      },
      "source": [
        "In this project, I'm going to use Random Forest Classifier, and we will tune the hyperparameters using GridSearchCV.\n",
        "\n",
        "We will create a dictionary, \"parameters\" which will contain the values of different hyperparameters, which we will pass to GridSearchCV to train our random forest classifier model using all possible combinations of the parameters"
      ],
      "id": "AKchemxqHHLx"
    },
    {
      "cell_type": "code",
      "metadata": {
        "id": "4pdFDx91HHLy"
      },
      "source": [
        "parameters = {'max_features': ('auto','sqrt'),\n",
        "             'n_estimators': [500, 1000],\n",
        "             'max_depth': [10, None],\n",
        "             'min_samples_split': [5],\n",
        "             'min_samples_leaf': [1],\n",
        "             'bootstrap': [True]}"
      ],
      "id": "4pdFDx91HHLy",
      "execution_count": null,
      "outputs": []
    },
    {
      "cell_type": "markdown",
      "metadata": {
        "id": "0B6DNFs4HHLz"
      },
      "source": [
        "Now, our GridSearchCV() will take the following parameters,\n",
        "\n",
        "1. Estimator or model - RandomForestClassifier in our case\n",
        "2. parameters - dictionary of hyperparameter names and their values\n",
        "3. cv - signifies cross validation folds\n",
        "4. return_train_score - returns the training scores of the various maodels\n",
        "5. n_jobs - no. of jobs to run parallely (\"-1\" signifies that all CPU cores will be used which reduces the training time drastically)\n",
        "\n",
        "Now, we will fit the data into grid search"
      ],
      "id": "0B6DNFs4HHLz"
    },
    {
      "cell_type": "code",
      "metadata": {
        "id": "noKXyg7FHHL3"
      },
      "source": [
        "grid_search = GridSearchCV(RandomForestClassifier(),parameters,cv=5,return_train_score=True,n_jobs=-1)\n",
        "grid_search.fit(X,y)\n",
        "grid_search.best_params_"
      ],
      "id": "noKXyg7FHHL3",
      "execution_count": null,
      "outputs": []
    },
    {
      "cell_type": "markdown",
      "metadata": {
        "id": "RKgzVunQHHL4"
      },
      "source": [
        "Displays models and their respective parameters, mean test score and rank."
      ],
      "id": "RKgzVunQHHL4"
    },
    {
      "cell_type": "code",
      "metadata": {
        "id": "I1CvbDG3HHL5"
      },
      "source": [
        "for i in range(6):\n",
        "    print('Parameters: ',grid_search.cv_results_['params'][i])\n",
        "    print('Mean Test Score: ',grid_search.cv_results_['mean_test_score'][i])\n",
        "    print('Rank: ',grid_search.cv_results_['rank_test_score'][i])"
      ],
      "id": "I1CvbDG3HHL5",
      "execution_count": null,
      "outputs": []
    },
    {
      "cell_type": "markdown",
      "metadata": {
        "id": "sak9pvVGHHL6"
      },
      "source": [
        "Now, we will choose the best parameters obtained from GridSearchCV and create a final random forest classifier model."
      ],
      "id": "sak9pvVGHHL6"
    },
    {
      "cell_type": "code",
      "metadata": {
        "id": "sXPLzbM-HHL7"
      },
      "source": [
        "rfc = RandomForestClassifier(max_features=grid_search.best_params_['max_features'],\n",
        "                                      max_depth=grid_search.best_params_['max_depth'],\n",
        "                                      n_estimators=grid_search.best_params_['n_estimators'],\n",
        "                                      min_samples_split=grid_search.best_params_['min_samples_split'],\n",
        "                                      min_samples_leaf=grid_search.best_params_['min_samples_leaf'],\n",
        "                                      bootstrap=grid_search.best_params_['bootstrap'])"
      ],
      "id": "sXPLzbM-HHL7",
      "execution_count": null,
      "outputs": []
    },
    {
      "cell_type": "markdown",
      "metadata": {
        "id": "CZEkGPTKHHL9"
      },
      "source": [
        "Now, we will train our new model."
      ],
      "id": "CZEkGPTKHHL9"
    },
    {
      "cell_type": "code",
      "metadata": {
        "id": "bL3jQWp1HHMA"
      },
      "source": [
        "rfc.fit(X,y)"
      ],
      "id": "bL3jQWp1HHMA",
      "execution_count": null,
      "outputs": []
    },
    {
      "cell_type": "markdown",
      "metadata": {
        "id": "vma-f9XkHHMC"
      },
      "source": [
        "Test Data Transformation\n",
        "\n",
        "Now, we will read the test data and perform the same transformations we did on training data and finally evaluate the model on it's predictions"
      ],
      "id": "vma-f9XkHHMC"
    },
    {
      "cell_type": "code",
      "metadata": {
        "id": "tQIPBBcoHHMD"
      },
      "source": [
        "test_df = pd.read_csv('Desktop/here/test.txt',delimiter=';',names=['text','label'])"
      ],
      "id": "tQIPBBcoHHMD",
      "execution_count": null,
      "outputs": []
    },
    {
      "cell_type": "code",
      "metadata": {
        "id": "BfZF8aAeHHMF"
      },
      "source": [
        "X_test,y_test = test_df.text,test_df.label\n",
        "#encode the labels into two classes , 0 and 1\n",
        "test_df = custom_encoder(y_test)\n",
        "#pre-processing of text\n",
        "test_corpus = text_transformation(X_test)\n",
        "#convert text data into vectors\n",
        "testdata = cv.transform(test_corpus)\n",
        "#predict the target\n",
        "predictions = rfc.predict(testdata)"
      ],
      "id": "BfZF8aAeHHMF",
      "execution_count": null,
      "outputs": []
    },
    {
      "cell_type": "markdown",
      "metadata": {
        "id": "TynbDPGdHHMI"
      },
      "source": [
        "Model Evaluation Metrics"
      ],
      "id": "TynbDPGdHHMI"
    },
    {
      "cell_type": "code",
      "metadata": {
        "id": "hdN5kNMvHHMK"
      },
      "source": [
        "rcParams['figure.figsize'] = 10,5\n",
        "plot_confusion_matrix(y_test,predictions)\n",
        "acc_score = accuracy_score(y_test,predictions)\n",
        "pre_score = precision_score(y_test,predictions)\n",
        "rec_score = recall_score(y_test,predictions)\n",
        "print('Accuracy_score: ',acc_score)\n",
        "print('Precision_score: ',pre_score)\n",
        "print('Recall_score: ',rec_score)\n",
        "print('-------------------------------------------------------------------')\n",
        "cr = classification_report(y_test,predictions)\n",
        "print(cr)"
      ],
      "id": "hdN5kNMvHHMK",
      "execution_count": null,
      "outputs": []
    },
    {
      "cell_type": "code",
      "metadata": {
        "id": "nCtIA91DHHML"
      },
      "source": [
        "predictions_probability = rfc.predict_proba(testdata)"
      ],
      "id": "nCtIA91DHHML",
      "execution_count": null,
      "outputs": []
    },
    {
      "cell_type": "code",
      "metadata": {
        "id": "DAEIrZt7HHMM"
      },
      "source": [
        "fpr,tpr,thresholds = roc_curve(y_test,predictions_probability[:,1])\n",
        "plt.plot(fpr,tpr)\n",
        "plt.plot([0,1])\n",
        "plt.title('ROC Curve')\n",
        "plt.xlabel('False Positive Rate')\n",
        "plt.ylabel('True Positive Rate')\n",
        "plt.show()"
      ],
      "id": "DAEIrZt7HHMM",
      "execution_count": null,
      "outputs": []
    },
    {
      "cell_type": "markdown",
      "metadata": {
        "id": "v-7YpTd-HHMN"
      },
      "source": [
        "Predict for Custom Input"
      ],
      "id": "v-7YpTd-HHMN"
    },
    {
      "cell_type": "code",
      "metadata": {
        "id": "PD-fp0CYHHMO"
      },
      "source": [
        "def expression_check(prediction_input):\n",
        "    if prediction_input == 0:\n",
        "        print(\"Input statement has Negative Sentiment.\")\n",
        "    elif prediction_input == 1:\n",
        "        print(\"Input statement has Positive Sentiment.\")\n",
        "    else:\n",
        "        print(\"Invalid Statement.\")"
      ],
      "id": "PD-fp0CYHHMO",
      "execution_count": null,
      "outputs": []
    },
    {
      "cell_type": "code",
      "metadata": {
        "id": "HkqjKWqHHHMP"
      },
      "source": [
        "def sentiment_predictor(input):\n",
        "    input = text_transformation(input)\n",
        "    transformed_input = cv.transform(input)\n",
        "    prediction = rfc.predict(transformed_input)\n",
        "    expression_check(prediction)"
      ],
      "id": "HkqjKWqHHHMP",
      "execution_count": null,
      "outputs": []
    },
    {
      "cell_type": "code",
      "metadata": {
        "id": "B699nxF7HHMQ"
      },
      "source": [
        "input1 = [\"Sometimes I just want to punch someone in the face.\"]\n",
        "input2 = [\"I bought a new phone and it's so good.\"]\n",
        "sentiment_predictor(input1)\n",
        "sentiment_predictor(input2)"
      ],
      "id": "B699nxF7HHMQ",
      "execution_count": null,
      "outputs": []
    }
  ]
}